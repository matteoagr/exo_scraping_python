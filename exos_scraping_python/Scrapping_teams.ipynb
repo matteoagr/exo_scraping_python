{
 "cells": [
  {
   "cell_type": "code",
   "execution_count": 7,
   "id": "e729d724",
   "metadata": {},
   "outputs": [
    {
     "name": "stdout",
     "output_type": "stream",
     "text": [
      "Récupération de la page 1...\n",
      "Extraction des données...\n",
      "Données de la page 1 enregistrées.\n",
      "Récupération de la page 2...\n",
      "Extraction des données...\n",
      "Données de la page 2 enregistrées.\n",
      "Récupération de la page 3...\n",
      "Extraction des données...\n",
      "Données de la page 3 enregistrées.\n",
      "Récupération de la page 4...\n",
      "Extraction des données...\n",
      "Données de la page 4 enregistrées.\n",
      "Récupération de la page 5...\n",
      "Extraction des données...\n",
      "Données de la page 5 enregistrées.\n",
      "Récupération de la page 6...\n",
      "Extraction des données...\n",
      "Données de la page 6 enregistrées.\n",
      "Récupération de la page 7...\n",
      "Extraction des données...\n",
      "Données de la page 7 enregistrées.\n",
      "Récupération de la page 8...\n",
      "Extraction des données...\n",
      "Données de la page 8 enregistrées.\n",
      "Récupération de la page 9...\n",
      "Extraction des données...\n",
      "Données de la page 9 enregistrées.\n",
      "Récupération de la page 10...\n",
      "Extraction des données...\n",
      "Données de la page 10 enregistrées.\n"
     ]
    }
   ],
   "source": [
    "import csv\n",
    "import requests\n",
    "from bs4 import BeautifulSoup\n",
    "\n",
    "# Définir l'URL de base et le nombre de pages à récupérer\n",
    "base_url = \"https://www.scrapethissite.com/pages/forms/?page_num=\"\n",
    "num_pages = 10\n",
    "\n",
    "# Définir les entêtes du fichier CSV\n",
    "headers = [\"Team Name\", \"Year\", \"Wins\", \"Losses\", \"OT Losses\", \"Win %\", \"Goals For (GF)\", \"Goals Against (GA)\", \"+ / -\"]\n",
    "\n",
    "# Ouvrir un fichier CSV pour écrire les données\n",
    "with open(\"result.csv\", \"w\", newline=\"\") as csvfile:\n",
    "    writer = csv.writer(csvfile)\n",
    "    writer.writerow(headers)\n",
    "\n",
    "    # Parcourir chaque page et extraire les données\n",
    "    for page in range(1, num_pages+1):\n",
    "        # Construire l'URL de la page actuelle\n",
    "        url = base_url + str(page)\n",
    "\n",
    "        # Récupérer le contenu HTML de la page\n",
    "        print(f\"Récupération de la page {page}...\")\n",
    "        response = requests.get(url)\n",
    "        soup = BeautifulSoup(response.content, \"html.parser\")\n",
    "\n",
    "        # Extraire les données et les écrire dans le fichier CSV\n",
    "        print(\"Extraction des données...\")\n",
    "        table = soup.find(\"table\")\n",
    "        rows = table.find_all(\"tr\")\n",
    "        for row in rows[1:]:\n",
    "            data = [cell.get_text(strip=True) for cell in row.find_all(\"td\")]\n",
    "            writer.writerow(data)\n",
    "        print(f\"Données de la page {page} enregistrées.\")"
   ]
  },
  {
   "cell_type": "code",
   "execution_count": 6,
   "id": "81c05030",
   "metadata": {},
   "outputs": [],
   "source": [
    "import pandas as pd\n",
    "\n",
    "# Charger les données du fichier CSV\n",
    "df = pd.read_csv(\"donnees.csv\")\n",
    "\n",
    "# Convertir la colonne \"+ / -\" en type numérique\n",
    "df[\"+ / -\"] = pd.to_numeric(df[\"+ / -\"])\n",
    "\n",
    "# Supprimer les équipes ayant un +/- négatif\n",
    "df_pos = df[df[\"+ / -\"] > 0]\n",
    "\n",
    "# Enregistrer les données filtrées dans le même fichier CSV\n",
    "df_pos.to_csv(\"donnees.csv\", index=False)"
   ]
  },
  {
   "cell_type": "code",
   "execution_count": null,
   "id": "88bee454",
   "metadata": {},
   "outputs": [],
   "source": []
  }
 ],
 "metadata": {
  "kernelspec": {
   "display_name": "Python 3 (ipykernel)",
   "language": "python",
   "name": "python3"
  },
  "language_info": {
   "codemirror_mode": {
    "name": "ipython",
    "version": 3
   },
   "file_extension": ".py",
   "mimetype": "text/x-python",
   "name": "python",
   "nbconvert_exporter": "python",
   "pygments_lexer": "ipython3",
   "version": "3.9.13"
  }
 },
 "nbformat": 4,
 "nbformat_minor": 5
}
